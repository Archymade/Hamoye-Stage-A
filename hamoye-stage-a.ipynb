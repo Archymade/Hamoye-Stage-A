{
 "cells": [
  {
   "cell_type": "code",
   "execution_count": 1,
   "id": "c986575b",
   "metadata": {
    "_cell_guid": "b1076dfc-b9ad-4769-8c92-a6c4dae69d19",
    "_uuid": "8f2839f25d086af736a60e9eeb907d3b93b6e0e5",
    "execution": {
     "iopub.execute_input": "2021-08-17T16:01:41.835664Z",
     "iopub.status.busy": "2021-08-17T16:01:41.834999Z",
     "iopub.status.idle": "2021-08-17T16:01:42.748341Z",
     "shell.execute_reply": "2021-08-17T16:01:42.747566Z",
     "shell.execute_reply.started": "2021-08-17T16:00:50.015395Z"
    },
    "papermill": {
     "duration": 0.952523,
     "end_time": "2021-08-17T16:01:42.748514",
     "exception": false,
     "start_time": "2021-08-17T16:01:41.795991",
     "status": "completed"
    },
    "tags": []
   },
   "outputs": [],
   "source": [
    "import pandas as pd\n",
    "import numpy as np\n",
    "import matplotlib.pyplot as plt\n",
    "import seaborn as sns\n",
    "\n",
    "%matplotlib inline\n",
    "plt.style.use('dark_background')"
   ]
  },
  {
   "cell_type": "code",
   "execution_count": 2,
   "id": "c4fd4bd3",
   "metadata": {
    "execution": {
     "iopub.execute_input": "2021-08-17T16:01:42.811308Z",
     "iopub.status.busy": "2021-08-17T16:01:42.810665Z",
     "iopub.status.idle": "2021-08-17T16:01:43.038489Z",
     "shell.execute_reply": "2021-08-17T16:01:43.037845Z",
     "shell.execute_reply.started": "2021-08-17T16:00:50.959795Z"
    },
    "papermill": {
     "duration": 0.265214,
     "end_time": "2021-08-17T16:01:43.038676",
     "exception": false,
     "start_time": "2021-08-17T16:01:42.773462",
     "status": "completed"
    },
    "tags": []
   },
   "outputs": [],
   "source": [
    "### Import dataset\n",
    "data = pd.read_csv('https://raw.githubusercontent.com/WalePhenomenon/climate_change/master/fuel_ferc1.csv')"
   ]
  },
  {
   "cell_type": "code",
   "execution_count": 3,
   "id": "c20f477c",
   "metadata": {
    "execution": {
     "iopub.execute_input": "2021-08-17T16:01:43.105139Z",
     "iopub.status.busy": "2021-08-17T16:01:43.104439Z",
     "iopub.status.idle": "2021-08-17T16:01:43.138777Z",
     "shell.execute_reply": "2021-08-17T16:01:43.139258Z",
     "shell.execute_reply.started": "2021-08-17T16:00:51.387396Z"
    },
    "papermill": {
     "duration": 0.072215,
     "end_time": "2021-08-17T16:01:43.139421",
     "exception": false,
     "start_time": "2021-08-17T16:01:43.067206",
     "status": "completed"
    },
    "tags": []
   },
   "outputs": [
    {
     "data": {
      "text/html": [
       "<div>\n",
       "<style scoped>\n",
       "    .dataframe tbody tr th:only-of-type {\n",
       "        vertical-align: middle;\n",
       "    }\n",
       "\n",
       "    .dataframe tbody tr th {\n",
       "        vertical-align: top;\n",
       "    }\n",
       "\n",
       "    .dataframe thead th {\n",
       "        text-align: right;\n",
       "    }\n",
       "</style>\n",
       "<table border=\"1\" class=\"dataframe\">\n",
       "  <thead>\n",
       "    <tr style=\"text-align: right;\">\n",
       "      <th></th>\n",
       "      <th>record_id</th>\n",
       "      <th>utility_id_ferc1</th>\n",
       "      <th>report_year</th>\n",
       "      <th>plant_name_ferc1</th>\n",
       "      <th>fuel_type_code_pudl</th>\n",
       "      <th>fuel_unit</th>\n",
       "      <th>fuel_qty_burned</th>\n",
       "      <th>fuel_mmbtu_per_unit</th>\n",
       "      <th>fuel_cost_per_unit_burned</th>\n",
       "      <th>fuel_cost_per_unit_delivered</th>\n",
       "      <th>fuel_cost_per_mmbtu</th>\n",
       "    </tr>\n",
       "  </thead>\n",
       "  <tbody>\n",
       "    <tr>\n",
       "      <th>0</th>\n",
       "      <td>f1_fuel_1994_12_1_0_7</td>\n",
       "      <td>1</td>\n",
       "      <td>1994</td>\n",
       "      <td>rockport</td>\n",
       "      <td>coal</td>\n",
       "      <td>ton</td>\n",
       "      <td>5377489.0</td>\n",
       "      <td>16.590</td>\n",
       "      <td>18.59</td>\n",
       "      <td>18.53</td>\n",
       "      <td>1.121</td>\n",
       "    </tr>\n",
       "    <tr>\n",
       "      <th>1</th>\n",
       "      <td>f1_fuel_1994_12_1_0_10</td>\n",
       "      <td>1</td>\n",
       "      <td>1994</td>\n",
       "      <td>rockport total plant</td>\n",
       "      <td>coal</td>\n",
       "      <td>ton</td>\n",
       "      <td>10486945.0</td>\n",
       "      <td>16.592</td>\n",
       "      <td>18.58</td>\n",
       "      <td>18.53</td>\n",
       "      <td>1.120</td>\n",
       "    </tr>\n",
       "    <tr>\n",
       "      <th>2</th>\n",
       "      <td>f1_fuel_1994_12_2_0_1</td>\n",
       "      <td>2</td>\n",
       "      <td>1994</td>\n",
       "      <td>gorgas</td>\n",
       "      <td>coal</td>\n",
       "      <td>ton</td>\n",
       "      <td>2978683.0</td>\n",
       "      <td>24.130</td>\n",
       "      <td>39.72</td>\n",
       "      <td>38.12</td>\n",
       "      <td>1.650</td>\n",
       "    </tr>\n",
       "    <tr>\n",
       "      <th>3</th>\n",
       "      <td>f1_fuel_1994_12_2_0_7</td>\n",
       "      <td>2</td>\n",
       "      <td>1994</td>\n",
       "      <td>barry</td>\n",
       "      <td>coal</td>\n",
       "      <td>ton</td>\n",
       "      <td>3739484.0</td>\n",
       "      <td>23.950</td>\n",
       "      <td>47.21</td>\n",
       "      <td>45.99</td>\n",
       "      <td>1.970</td>\n",
       "    </tr>\n",
       "    <tr>\n",
       "      <th>4</th>\n",
       "      <td>f1_fuel_1994_12_2_0_10</td>\n",
       "      <td>2</td>\n",
       "      <td>1994</td>\n",
       "      <td>chickasaw</td>\n",
       "      <td>gas</td>\n",
       "      <td>mcf</td>\n",
       "      <td>40533.0</td>\n",
       "      <td>1.000</td>\n",
       "      <td>2.77</td>\n",
       "      <td>2.77</td>\n",
       "      <td>2.570</td>\n",
       "    </tr>\n",
       "  </tbody>\n",
       "</table>\n",
       "</div>"
      ],
      "text/plain": [
       "                record_id  utility_id_ferc1  report_year  \\\n",
       "0   f1_fuel_1994_12_1_0_7                 1         1994   \n",
       "1  f1_fuel_1994_12_1_0_10                 1         1994   \n",
       "2   f1_fuel_1994_12_2_0_1                 2         1994   \n",
       "3   f1_fuel_1994_12_2_0_7                 2         1994   \n",
       "4  f1_fuel_1994_12_2_0_10                 2         1994   \n",
       "\n",
       "       plant_name_ferc1 fuel_type_code_pudl fuel_unit  fuel_qty_burned  \\\n",
       "0              rockport                coal       ton        5377489.0   \n",
       "1  rockport total plant                coal       ton       10486945.0   \n",
       "2                gorgas                coal       ton        2978683.0   \n",
       "3                 barry                coal       ton        3739484.0   \n",
       "4             chickasaw                 gas       mcf          40533.0   \n",
       "\n",
       "   fuel_mmbtu_per_unit  fuel_cost_per_unit_burned  \\\n",
       "0               16.590                      18.59   \n",
       "1               16.592                      18.58   \n",
       "2               24.130                      39.72   \n",
       "3               23.950                      47.21   \n",
       "4                1.000                       2.77   \n",
       "\n",
       "   fuel_cost_per_unit_delivered  fuel_cost_per_mmbtu  \n",
       "0                         18.53                1.121  \n",
       "1                         18.53                1.120  \n",
       "2                         38.12                1.650  \n",
       "3                         45.99                1.970  \n",
       "4                          2.77                2.570  "
      ]
     },
     "execution_count": 3,
     "metadata": {},
     "output_type": "execute_result"
    }
   ],
   "source": [
    "### Peak at the dataset\n",
    "data.head()"
   ]
  },
  {
   "cell_type": "code",
   "execution_count": 4,
   "id": "b9d2b2ec",
   "metadata": {
    "execution": {
     "iopub.execute_input": "2021-08-17T16:01:43.192889Z",
     "iopub.status.busy": "2021-08-17T16:01:43.192257Z",
     "iopub.status.idle": "2021-08-17T16:01:43.197560Z",
     "shell.execute_reply": "2021-08-17T16:01:43.198105Z",
     "shell.execute_reply.started": "2021-08-17T16:00:51.421726Z"
    },
    "papermill": {
     "duration": 0.033471,
     "end_time": "2021-08-17T16:01:43.198268",
     "exception": false,
     "start_time": "2021-08-17T16:01:43.164797",
     "status": "completed"
    },
    "tags": []
   },
   "outputs": [
    {
     "data": {
      "text/plain": [
       "Index(['record_id', 'utility_id_ferc1', 'report_year', 'plant_name_ferc1',\n",
       "       'fuel_type_code_pudl', 'fuel_unit', 'fuel_qty_burned',\n",
       "       'fuel_mmbtu_per_unit', 'fuel_cost_per_unit_burned',\n",
       "       'fuel_cost_per_unit_delivered', 'fuel_cost_per_mmbtu'],\n",
       "      dtype='object')"
      ]
     },
     "execution_count": 4,
     "metadata": {},
     "output_type": "execute_result"
    }
   ],
   "source": [
    "### Column index for the dataset\n",
    "data.columns"
   ]
  },
  {
   "cell_type": "markdown",
   "id": "e1634a3a",
   "metadata": {
    "papermill": {
     "duration": 0.024951,
     "end_time": "2021-08-17T16:01:43.248426",
     "exception": false,
     "start_time": "2021-08-17T16:01:43.223475",
     "status": "completed"
    },
    "tags": []
   },
   "source": [
    "# Question 3\n",
    "Which of the following fuel type code has the lowest average fuel cost per unit burned?"
   ]
  },
  {
   "cell_type": "code",
   "execution_count": 5,
   "id": "30822d9e",
   "metadata": {
    "execution": {
     "iopub.execute_input": "2021-08-17T16:01:43.302559Z",
     "iopub.status.busy": "2021-08-17T16:01:43.301976Z",
     "iopub.status.idle": "2021-08-17T16:01:43.318092Z",
     "shell.execute_reply": "2021-08-17T16:01:43.317565Z",
     "shell.execute_reply.started": "2021-08-17T16:00:51.431544Z"
    },
    "papermill": {
     "duration": 0.043989,
     "end_time": "2021-08-17T16:01:43.318228",
     "exception": false,
     "start_time": "2021-08-17T16:01:43.274239",
     "status": "completed"
    },
    "tags": []
   },
   "outputs": [
    {
     "data": {
      "text/plain": [
       "fuel_type_code_pudl\n",
       "gas          13.659397\n",
       "other        18.253856\n",
       "waste        19.518122\n",
       "coal         67.421830\n",
       "oil         168.877086\n",
       "nuclear    4955.157002\n",
       "Name: fuel_cost_per_unit_burned, dtype: float64"
      ]
     },
     "execution_count": 5,
     "metadata": {},
     "output_type": "execute_result"
    }
   ],
   "source": [
    "data.groupby(by = 'fuel_type_code_pudl')['fuel_cost_per_unit_burned'].mean().sort_values()"
   ]
  },
  {
   "cell_type": "markdown",
   "id": "073565fb",
   "metadata": {
    "papermill": {
     "duration": 0.025355,
     "end_time": "2021-08-17T16:01:43.369107",
     "exception": false,
     "start_time": "2021-08-17T16:01:43.343752",
     "status": "completed"
    },
    "tags": []
   },
   "source": [
    "# Question 4\n",
    "What is the standard deviation and 75th percentile of the measure of energy per unit (Fuel_mmbtu_per_unit) in two decimal places"
   ]
  },
  {
   "cell_type": "code",
   "execution_count": 6,
   "id": "6fe55b17",
   "metadata": {
    "execution": {
     "iopub.execute_input": "2021-08-17T16:01:43.428113Z",
     "iopub.status.busy": "2021-08-17T16:01:43.427471Z",
     "iopub.status.idle": "2021-08-17T16:01:43.453757Z",
     "shell.execute_reply": "2021-08-17T16:01:43.452555Z",
     "shell.execute_reply.started": "2021-08-17T16:00:51.451017Z"
    },
    "papermill": {
     "duration": 0.059187,
     "end_time": "2021-08-17T16:01:43.453906",
     "exception": false,
     "start_time": "2021-08-17T16:01:43.394719",
     "status": "completed"
    },
    "tags": []
   },
   "outputs": [],
   "source": [
    "info_stats = data.describe()['fuel_mmbtu_per_unit']"
   ]
  },
  {
   "cell_type": "code",
   "execution_count": 7,
   "id": "808d9850",
   "metadata": {
    "execution": {
     "iopub.execute_input": "2021-08-17T16:01:43.510705Z",
     "iopub.status.busy": "2021-08-17T16:01:43.509859Z",
     "iopub.status.idle": "2021-08-17T16:01:43.514368Z",
     "shell.execute_reply": "2021-08-17T16:01:43.513512Z",
     "shell.execute_reply.started": "2021-08-17T16:00:51.482259Z"
    },
    "papermill": {
     "duration": 0.035091,
     "end_time": "2021-08-17T16:01:43.514557",
     "exception": false,
     "start_time": "2021-08-17T16:01:43.479466",
     "status": "completed"
    },
    "tags": []
   },
   "outputs": [
    {
     "name": "stdout",
     "output_type": "stream",
     "text": [
      "Standard deviation: \t10.600220307806886\n",
      "75% percentile: \t17.006\n"
     ]
    }
   ],
   "source": [
    "print(f'Standard deviation: \\t{info_stats[\"std\"]}')\n",
    "print(f'75% percentile: \\t{info_stats[\"75%\"]}')"
   ]
  },
  {
   "cell_type": "markdown",
   "id": "d1d1b0f3",
   "metadata": {
    "papermill": {
     "duration": 0.025722,
     "end_time": "2021-08-17T16:01:43.567432",
     "exception": false,
     "start_time": "2021-08-17T16:01:43.541710",
     "status": "completed"
    },
    "tags": []
   },
   "source": [
    "# Question 5\n",
    "What is the skewness and kurtosis for the fuel quantity burned in two decimal places?"
   ]
  },
  {
   "cell_type": "code",
   "execution_count": 8,
   "id": "b5260bb2",
   "metadata": {
    "execution": {
     "iopub.execute_input": "2021-08-17T16:01:43.626128Z",
     "iopub.status.busy": "2021-08-17T16:01:43.625061Z",
     "iopub.status.idle": "2021-08-17T16:01:43.631048Z",
     "shell.execute_reply": "2021-08-17T16:01:43.630296Z",
     "shell.execute_reply.started": "2021-08-17T16:00:51.490801Z"
    },
    "papermill": {
     "duration": 0.037557,
     "end_time": "2021-08-17T16:01:43.631234",
     "exception": false,
     "start_time": "2021-08-17T16:01:43.593677",
     "status": "completed"
    },
    "tags": []
   },
   "outputs": [
    {
     "name": "stdout",
     "output_type": "stream",
     "text": [
      "Skew for the distribution of quantity of fuel burned: \t15.851495469109503\n",
      "Kurtosis for the distribution of quantity of fuel burned: \t651.3694501337732\n"
     ]
    }
   ],
   "source": [
    "### Skewness and kurtosis of fuel quantity burned\n",
    "print(f'Skew for the distribution of quantity of fuel burned: \\t{data[\"fuel_qty_burned\"].skew()}')\n",
    "print(f'Kurtosis for the distribution of quantity of fuel burned: \\t{data[\"fuel_qty_burned\"].kurt()}')"
   ]
  },
  {
   "cell_type": "markdown",
   "id": "967e3dbb",
   "metadata": {
    "papermill": {
     "duration": 0.026041,
     "end_time": "2021-08-17T16:01:43.684090",
     "exception": false,
     "start_time": "2021-08-17T16:01:43.658049",
     "status": "completed"
    },
    "tags": []
   },
   "source": [
    "# Question 6\n",
    "Which feature has missing values and what is the total number of missing value and percentage of the missing rows as a factor of the total number of rows in three decimal places?\n",
    "\n",
    "(Enter answer in the format: Feature: xxx, Total: xxx, Percent: xxx)"
   ]
  },
  {
   "cell_type": "code",
   "execution_count": 9,
   "id": "b34c2bc1",
   "metadata": {
    "execution": {
     "iopub.execute_input": "2021-08-17T16:01:43.740433Z",
     "iopub.status.busy": "2021-08-17T16:01:43.739477Z",
     "iopub.status.idle": "2021-08-17T16:01:43.777066Z",
     "shell.execute_reply": "2021-08-17T16:01:43.776458Z",
     "shell.execute_reply.started": "2021-08-17T16:00:51.504754Z"
    },
    "papermill": {
     "duration": 0.066617,
     "end_time": "2021-08-17T16:01:43.777227",
     "exception": false,
     "start_time": "2021-08-17T16:01:43.710610",
     "status": "completed"
    },
    "tags": []
   },
   "outputs": [
    {
     "data": {
      "text/plain": [
       "record_id                       0.000000\n",
       "utility_id_ferc1                0.000000\n",
       "report_year                     0.000000\n",
       "plant_name_ferc1                0.000000\n",
       "fuel_type_code_pudl             0.000000\n",
       "fuel_unit                       0.609694\n",
       "fuel_qty_burned                 0.000000\n",
       "fuel_mmbtu_per_unit             0.000000\n",
       "fuel_cost_per_unit_burned       0.000000\n",
       "fuel_cost_per_unit_delivered    0.000000\n",
       "fuel_cost_per_mmbtu             0.000000\n",
       "dtype: float64"
      ]
     },
     "execution_count": 9,
     "metadata": {},
     "output_type": "execute_result"
    }
   ],
   "source": [
    "100*data.isnull().sum()/data.shape[0]"
   ]
  },
  {
   "cell_type": "markdown",
   "id": "bfbc9483",
   "metadata": {
    "papermill": {
     "duration": 0.026098,
     "end_time": "2021-08-17T16:01:43.830032",
     "exception": false,
     "start_time": "2021-08-17T16:01:43.803934",
     "status": "completed"
    },
    "tags": []
   },
   "source": [
    "# Question 7\n",
    "The feature with missing values falls under what category? What missing value imputation technique would you use?"
   ]
  },
  {
   "cell_type": "code",
   "execution_count": 10,
   "id": "b3272cc8",
   "metadata": {
    "execution": {
     "iopub.execute_input": "2021-08-17T16:01:43.887291Z",
     "iopub.status.busy": "2021-08-17T16:01:43.886699Z",
     "iopub.status.idle": "2021-08-17T16:01:43.914834Z",
     "shell.execute_reply": "2021-08-17T16:01:43.914110Z",
     "shell.execute_reply.started": "2021-08-17T16:00:51.541526Z"
    },
    "papermill": {
     "duration": 0.057406,
     "end_time": "2021-08-17T16:01:43.915023",
     "exception": false,
     "start_time": "2021-08-17T16:01:43.857617",
     "status": "completed"
    },
    "tags": []
   },
   "outputs": [
    {
     "name": "stdout",
     "output_type": "stream",
     "text": [
      "<class 'pandas.core.frame.DataFrame'>\n",
      "RangeIndex: 29523 entries, 0 to 29522\n",
      "Data columns (total 11 columns):\n",
      " #   Column                        Non-Null Count  Dtype  \n",
      "---  ------                        --------------  -----  \n",
      " 0   record_id                     29523 non-null  object \n",
      " 1   utility_id_ferc1              29523 non-null  int64  \n",
      " 2   report_year                   29523 non-null  int64  \n",
      " 3   plant_name_ferc1              29523 non-null  object \n",
      " 4   fuel_type_code_pudl           29523 non-null  object \n",
      " 5   fuel_unit                     29343 non-null  object \n",
      " 6   fuel_qty_burned               29523 non-null  float64\n",
      " 7   fuel_mmbtu_per_unit           29523 non-null  float64\n",
      " 8   fuel_cost_per_unit_burned     29523 non-null  float64\n",
      " 9   fuel_cost_per_unit_delivered  29523 non-null  float64\n",
      " 10  fuel_cost_per_mmbtu           29523 non-null  float64\n",
      "dtypes: float64(5), int64(2), object(4)\n",
      "memory usage: 2.5+ MB\n"
     ]
    }
   ],
   "source": [
    "data.info()"
   ]
  },
  {
   "cell_type": "markdown",
   "id": "b0514657",
   "metadata": {
    "papermill": {
     "duration": 0.026986,
     "end_time": "2021-08-17T16:01:43.969696",
     "exception": false,
     "start_time": "2021-08-17T16:01:43.942710",
     "status": "completed"
    },
    "tags": []
   },
   "source": [
    "# Question 8\n",
    "Which of the features has the second and third lowest correlation with the Fuel Cost Per Unit Burned?"
   ]
  },
  {
   "cell_type": "code",
   "execution_count": 11,
   "id": "0f8907f1",
   "metadata": {
    "execution": {
     "iopub.execute_input": "2021-08-17T16:01:44.029677Z",
     "iopub.status.busy": "2021-08-17T16:01:44.028995Z",
     "iopub.status.idle": "2021-08-17T16:01:44.039216Z",
     "shell.execute_reply": "2021-08-17T16:01:44.038679Z",
     "shell.execute_reply.started": "2021-08-17T16:00:51.570538Z"
    },
    "papermill": {
     "duration": 0.042329,
     "end_time": "2021-08-17T16:01:44.039348",
     "exception": false,
     "start_time": "2021-08-17T16:01:43.997019",
     "status": "completed"
    },
    "tags": []
   },
   "outputs": [],
   "source": [
    "### Correlation information\n",
    "corr_data = data.corr()"
   ]
  },
  {
   "cell_type": "code",
   "execution_count": 12,
   "id": "e0eb28a9",
   "metadata": {
    "execution": {
     "iopub.execute_input": "2021-08-17T16:01:44.101499Z",
     "iopub.status.busy": "2021-08-17T16:01:44.100622Z",
     "iopub.status.idle": "2021-08-17T16:01:44.104850Z",
     "shell.execute_reply": "2021-08-17T16:01:44.104306Z",
     "shell.execute_reply.started": "2021-08-17T16:00:51.583246Z"
    },
    "papermill": {
     "duration": 0.03845,
     "end_time": "2021-08-17T16:01:44.104989",
     "exception": false,
     "start_time": "2021-08-17T16:01:44.066539",
     "status": "completed"
    },
    "tags": []
   },
   "outputs": [
    {
     "data": {
      "text/plain": [
       "fuel_mmbtu_per_unit   -0.010034\n",
       "fuel_qty_burned       -0.018535\n",
       "utility_id_ferc1      -0.037863\n",
       "Name: fuel_cost_per_unit_burned, dtype: float64"
      ]
     },
     "execution_count": 12,
     "metadata": {},
     "output_type": "execute_result"
    }
   ],
   "source": [
    "### Correlation information for 'fuel_cost_per_unit_burned'\n",
    "corr_data['fuel_cost_per_unit_burned'].sort_values(ascending = False).tail(3)"
   ]
  },
  {
   "cell_type": "markdown",
   "id": "6f7ad147",
   "metadata": {
    "papermill": {
     "duration": 0.027108,
     "end_time": "2021-08-17T16:01:44.159760",
     "exception": false,
     "start_time": "2021-08-17T16:01:44.132652",
     "status": "completed"
    },
    "tags": []
   },
   "source": [
    "# Question 9\n",
    "For the fuel type coal, what is the percentage change in the fuel cost per unit burned in 1998 compared to 1994?"
   ]
  },
  {
   "cell_type": "code",
   "execution_count": 13,
   "id": "f7cff88a",
   "metadata": {
    "execution": {
     "iopub.execute_input": "2021-08-17T16:01:44.224276Z",
     "iopub.status.busy": "2021-08-17T16:01:44.223628Z",
     "iopub.status.idle": "2021-08-17T16:01:44.229818Z",
     "shell.execute_reply": "2021-08-17T16:01:44.229276Z",
     "shell.execute_reply.started": "2021-08-17T16:00:51.593580Z"
    },
    "papermill": {
     "duration": 0.042615,
     "end_time": "2021-08-17T16:01:44.229955",
     "exception": false,
     "start_time": "2021-08-17T16:01:44.187340",
     "status": "completed"
    },
    "tags": []
   },
   "outputs": [],
   "source": [
    "### Slice out the data subsection as regards coal\n",
    "coal_data = data.loc[data['fuel_type_code_pudl'] == 'coal']"
   ]
  },
  {
   "cell_type": "code",
   "execution_count": 14,
   "id": "4db2519f",
   "metadata": {
    "execution": {
     "iopub.execute_input": "2021-08-17T16:01:44.289168Z",
     "iopub.status.busy": "2021-08-17T16:01:44.288437Z",
     "iopub.status.idle": "2021-08-17T16:01:44.292473Z",
     "shell.execute_reply": "2021-08-17T16:01:44.291939Z",
     "shell.execute_reply.started": "2021-08-17T16:00:51.609940Z"
    },
    "papermill": {
     "duration": 0.035359,
     "end_time": "2021-08-17T16:01:44.292626",
     "exception": false,
     "start_time": "2021-08-17T16:01:44.257267",
     "status": "completed"
    },
    "tags": []
   },
   "outputs": [
    {
     "data": {
      "text/plain": [
       "(8547, 11)"
      ]
     },
     "execution_count": 14,
     "metadata": {},
     "output_type": "execute_result"
    }
   ],
   "source": [
    "### Check shape\n",
    "coal_data.shape"
   ]
  },
  {
   "cell_type": "code",
   "execution_count": 15,
   "id": "82375d50",
   "metadata": {
    "execution": {
     "iopub.execute_input": "2021-08-17T16:01:44.354147Z",
     "iopub.status.busy": "2021-08-17T16:01:44.353126Z",
     "iopub.status.idle": "2021-08-17T16:01:44.358504Z",
     "shell.execute_reply": "2021-08-17T16:01:44.357882Z",
     "shell.execute_reply.started": "2021-08-17T16:00:51.619711Z"
    },
    "papermill": {
     "duration": 0.038528,
     "end_time": "2021-08-17T16:01:44.358668",
     "exception": false,
     "start_time": "2021-08-17T16:01:44.320140",
     "status": "completed"
    },
    "tags": []
   },
   "outputs": [
    {
     "data": {
      "text/plain": [
       "25"
      ]
     },
     "execution_count": 15,
     "metadata": {},
     "output_type": "execute_result"
    }
   ],
   "source": [
    "### Number of unique years for which coal data is available\n",
    "coal_data['report_year'].nunique()"
   ]
  },
  {
   "cell_type": "code",
   "execution_count": 16,
   "id": "2bcf4fca",
   "metadata": {
    "execution": {
     "iopub.execute_input": "2021-08-17T16:01:44.420873Z",
     "iopub.status.busy": "2021-08-17T16:01:44.419987Z",
     "iopub.status.idle": "2021-08-17T16:01:44.424110Z",
     "shell.execute_reply": "2021-08-17T16:01:44.423472Z",
     "shell.execute_reply.started": "2021-08-17T16:00:51.635110Z"
    },
    "papermill": {
     "duration": 0.037531,
     "end_time": "2021-08-17T16:01:44.424271",
     "exception": false,
     "start_time": "2021-08-17T16:01:44.386740",
     "status": "completed"
    },
    "tags": []
   },
   "outputs": [
    {
     "data": {
      "text/plain": [
       "array([1994, 1995, 1996, 1997, 1998, 1999, 2000, 2001, 2002, 2003, 2004,\n",
       "       2005, 2006, 2007, 2008, 2009, 2010, 2011, 2012, 2013, 2014, 2015,\n",
       "       2016, 2017, 2018])"
      ]
     },
     "execution_count": 16,
     "metadata": {},
     "output_type": "execute_result"
    }
   ],
   "source": [
    "### Unique years for which coal fuel usage was revorded\n",
    "coal_data['report_year'].unique()"
   ]
  },
  {
   "cell_type": "code",
   "execution_count": 17,
   "id": "48707932",
   "metadata": {
    "execution": {
     "iopub.execute_input": "2021-08-17T16:01:44.487967Z",
     "iopub.status.busy": "2021-08-17T16:01:44.486961Z",
     "iopub.status.idle": "2021-08-17T16:01:44.490527Z",
     "shell.execute_reply": "2021-08-17T16:01:44.491023Z",
     "shell.execute_reply.started": "2021-08-17T16:00:51.646843Z"
    },
    "papermill": {
     "duration": 0.038563,
     "end_time": "2021-08-17T16:01:44.491197",
     "exception": false,
     "start_time": "2021-08-17T16:01:44.452634",
     "status": "completed"
    },
    "tags": []
   },
   "outputs": [],
   "source": [
    "### Groupby year and index out the required feature for the required years\n",
    "compare_years = coal_data.groupby(by = 'report_year')['fuel_cost_per_unit_burned'].sum().loc[[1994, 1998]]"
   ]
  },
  {
   "cell_type": "code",
   "execution_count": 18,
   "id": "e8708488",
   "metadata": {
    "execution": {
     "iopub.execute_input": "2021-08-17T16:01:44.551478Z",
     "iopub.status.busy": "2021-08-17T16:01:44.550526Z",
     "iopub.status.idle": "2021-08-17T16:01:44.557213Z",
     "shell.execute_reply": "2021-08-17T16:01:44.557805Z",
     "shell.execute_reply.started": "2021-08-17T16:00:51.660408Z"
    },
    "papermill": {
     "duration": 0.038591,
     "end_time": "2021-08-17T16:01:44.557977",
     "exception": false,
     "start_time": "2021-08-17T16:01:44.519386",
     "status": "completed"
    },
    "tags": []
   },
   "outputs": [
    {
     "data": {
      "text/plain": [
       "report_year\n",
       "1994    14984.572\n",
       "1998    11902.597\n",
       "Name: fuel_cost_per_unit_burned, dtype: float64"
      ]
     },
     "execution_count": 18,
     "metadata": {},
     "output_type": "execute_result"
    }
   ],
   "source": [
    "compare_years"
   ]
  },
  {
   "cell_type": "code",
   "execution_count": 19,
   "id": "272148b5",
   "metadata": {
    "execution": {
     "iopub.execute_input": "2021-08-17T16:01:44.620202Z",
     "iopub.status.busy": "2021-08-17T16:01:44.619258Z",
     "iopub.status.idle": "2021-08-17T16:01:44.624687Z",
     "shell.execute_reply": "2021-08-17T16:01:44.625273Z",
     "shell.execute_reply.started": "2021-08-17T16:00:51.672073Z"
    },
    "papermill": {
     "duration": 0.038113,
     "end_time": "2021-08-17T16:01:44.625438",
     "exception": false,
     "start_time": "2021-08-17T16:01:44.587325",
     "status": "completed"
    },
    "tags": []
   },
   "outputs": [
    {
     "data": {
      "text/plain": [
       "0.7943234548173949"
      ]
     },
     "execution_count": 19,
     "metadata": {},
     "output_type": "execute_result"
    }
   ],
   "source": [
    "11902.597/14984.572"
   ]
  },
  {
   "cell_type": "code",
   "execution_count": 20,
   "id": "66ee5a87",
   "metadata": {
    "execution": {
     "iopub.execute_input": "2021-08-17T16:01:44.689229Z",
     "iopub.status.busy": "2021-08-17T16:01:44.688468Z",
     "iopub.status.idle": "2021-08-17T16:01:44.691482Z",
     "shell.execute_reply": "2021-08-17T16:01:44.690913Z",
     "shell.execute_reply.started": "2021-08-17T16:00:51.684964Z"
    },
    "papermill": {
     "duration": 0.036881,
     "end_time": "2021-08-17T16:01:44.691639",
     "exception": false,
     "start_time": "2021-08-17T16:01:44.654758",
     "status": "completed"
    },
    "tags": []
   },
   "outputs": [],
   "source": [
    "total_cost = compare_years.sum()"
   ]
  },
  {
   "cell_type": "code",
   "execution_count": 21,
   "id": "e8afa24c",
   "metadata": {
    "execution": {
     "iopub.execute_input": "2021-08-17T16:01:44.754160Z",
     "iopub.status.busy": "2021-08-17T16:01:44.753495Z",
     "iopub.status.idle": "2021-08-17T16:01:44.760019Z",
     "shell.execute_reply": "2021-08-17T16:01:44.760485Z",
     "shell.execute_reply.started": "2021-08-17T16:00:51.694338Z"
    },
    "papermill": {
     "duration": 0.039726,
     "end_time": "2021-08-17T16:01:44.760667",
     "exception": false,
     "start_time": "2021-08-17T16:01:44.720941",
     "status": "completed"
    },
    "tags": []
   },
   "outputs": [
    {
     "data": {
      "text/plain": [
       "report_year\n",
       "1994    0.557313\n",
       "1998    0.442687\n",
       "Name: fuel_cost_per_unit_burned, dtype: float64"
      ]
     },
     "execution_count": 21,
     "metadata": {},
     "output_type": "execute_result"
    }
   ],
   "source": [
    "compare_years/total_cost"
   ]
  },
  {
   "cell_type": "markdown",
   "id": "c99029d8",
   "metadata": {
    "papermill": {
     "duration": 0.03003,
     "end_time": "2021-08-17T16:01:44.820478",
     "exception": false,
     "start_time": "2021-08-17T16:01:44.790448",
     "status": "completed"
    },
    "tags": []
   },
   "source": [
    "# Question 10\n",
    "Which year has the highest average fuel cost per unit delivered?"
   ]
  },
  {
   "cell_type": "code",
   "execution_count": 22,
   "id": "22da50ab",
   "metadata": {
    "execution": {
     "iopub.execute_input": "2021-08-17T16:01:44.886127Z",
     "iopub.status.busy": "2021-08-17T16:01:44.885505Z",
     "iopub.status.idle": "2021-08-17T16:01:44.892880Z",
     "shell.execute_reply": "2021-08-17T16:01:44.893332Z",
     "shell.execute_reply.started": "2021-08-17T16:00:51.708321Z"
    },
    "papermill": {
     "duration": 0.043004,
     "end_time": "2021-08-17T16:01:44.893501",
     "exception": false,
     "start_time": "2021-08-17T16:01:44.850497",
     "status": "completed"
    },
    "tags": []
   },
   "outputs": [
    {
     "data": {
      "text/plain": [
       "report_year\n",
       "1997    11140.197239\n",
       "1996     9196.705948\n",
       "2000      985.362877\n",
       "2009      652.694163\n",
       "2018      499.269966\n",
       "2015      326.535511\n",
       "1998      287.154420\n",
       "2014      192.737183\n",
       "2013      172.307591\n",
       "2004      139.524275\n",
       "2016      103.901761\n",
       "2010       91.862105\n",
       "1994       63.636060\n",
       "2012       60.994502\n",
       "2001       60.050396\n",
       "2011       59.774667\n",
       "2008       58.588197\n",
       "2003       55.663493\n",
       "2002       47.594361\n",
       "2017       46.196861\n",
       "2007       43.325023\n",
       "2005       41.438184\n",
       "2006       38.657484\n",
       "1995       32.735269\n",
       "1999       25.551627\n",
       "Name: fuel_cost_per_unit_delivered, dtype: float64"
      ]
     },
     "execution_count": 22,
     "metadata": {},
     "output_type": "execute_result"
    }
   ],
   "source": [
    "data.groupby(by = 'report_year')['fuel_cost_per_unit_delivered'].mean().sort_values(ascending = False)"
   ]
  },
  {
   "cell_type": "code",
   "execution_count": 23,
   "id": "b0bfa083",
   "metadata": {
    "execution": {
     "iopub.execute_input": "2021-08-17T16:01:44.956908Z",
     "iopub.status.busy": "2021-08-17T16:01:44.955935Z",
     "iopub.status.idle": "2021-08-17T16:01:44.961000Z",
     "shell.execute_reply": "2021-08-17T16:01:44.961475Z",
     "shell.execute_reply.started": "2021-08-17T16:00:51.724720Z"
    },
    "papermill": {
     "duration": 0.038276,
     "end_time": "2021-08-17T16:01:44.961657",
     "exception": false,
     "start_time": "2021-08-17T16:01:44.923381",
     "status": "completed"
    },
    "tags": []
   },
   "outputs": [
    {
     "data": {
      "text/plain": [
       "'fuel_cost_per_unit_delivered'"
      ]
     },
     "execution_count": 23,
     "metadata": {},
     "output_type": "execute_result"
    }
   ],
   "source": [
    "'fuel_cost_per_unit_delivered'"
   ]
  },
  {
   "cell_type": "code",
   "execution_count": null,
   "id": "0cbed498",
   "metadata": {
    "papermill": {
     "duration": 0.029881,
     "end_time": "2021-08-17T16:01:45.021355",
     "exception": false,
     "start_time": "2021-08-17T16:01:44.991474",
     "status": "completed"
    },
    "tags": []
   },
   "outputs": [],
   "source": []
  },
  {
   "cell_type": "code",
   "execution_count": null,
   "id": "e69b774c",
   "metadata": {
    "papermill": {
     "duration": 0.029487,
     "end_time": "2021-08-17T16:01:45.080961",
     "exception": false,
     "start_time": "2021-08-17T16:01:45.051474",
     "status": "completed"
    },
    "tags": []
   },
   "outputs": [],
   "source": []
  },
  {
   "cell_type": "code",
   "execution_count": null,
   "id": "957a1038",
   "metadata": {
    "papermill": {
     "duration": 0.030679,
     "end_time": "2021-08-17T16:01:45.141536",
     "exception": false,
     "start_time": "2021-08-17T16:01:45.110857",
     "status": "completed"
    },
    "tags": []
   },
   "outputs": [],
   "source": []
  }
 ],
 "metadata": {
  "kernelspec": {
   "display_name": "Python 3",
   "language": "python",
   "name": "python3"
  },
  "language_info": {
   "codemirror_mode": {
    "name": "ipython",
    "version": 3
   },
   "file_extension": ".py",
   "mimetype": "text/x-python",
   "name": "python",
   "nbconvert_exporter": "python",
   "pygments_lexer": "ipython3",
   "version": "3.7.10"
  },
  "papermill": {
   "default_parameters": {},
   "duration": 12.775584,
   "end_time": "2021-08-17T16:01:46.749617",
   "environment_variables": {},
   "exception": null,
   "input_path": "__notebook__.ipynb",
   "output_path": "__notebook__.ipynb",
   "parameters": {},
   "start_time": "2021-08-17T16:01:33.974033",
   "version": "2.3.3"
  }
 },
 "nbformat": 4,
 "nbformat_minor": 5
}
